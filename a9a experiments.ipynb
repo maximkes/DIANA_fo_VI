{
 "cells": [
  {
   "cell_type": "code",
   "execution_count": 1,
   "metadata": {
    "collapsed": true
   },
   "outputs": [],
   "source": [
    "import numpy as np\n",
    "from sklearn.datasets import load_svmlight_file\n",
    "from tqdm import tqdm"
   ]
  },
  {
   "cell_type": "code",
   "execution_count": 2,
   "metadata": {},
   "outputs": [],
   "source": [
    "#this experiment uses a9a of LIBSVM Data, including 32561/16281(testing) samples and each sample has 123/123 (testing) features.\n",
    "#The data is stored in a9a.txt and a9atest.txt\n",
    "X_train,Y_train = load_svmlight_file('./datasets/a9a.txt', n_features=123)\n",
    "X_train = X_train.toarray()\n",
    "Y_train=Y_train.reshape((-1,1))\n",
    "n_samples, n_features = X_train.shape\n",
    "X_train = np.column_stack((X_train, np.ones((n_samples, 1))))\n",
    "Y_train = Y_train.reshape((-1, 1))\n",
    "\n",
    "X_test,Y_test = load_svmlight_file('./datasets/a9atest.txt',n_features=123)\n",
    "X_test = X_test.toarray()\n",
    "n_samples, n_features = X_test.shape\n",
    "X_test = np.column_stack((X_test, np.ones((n_samples, 1))))\n",
    "Y_test=Y_test.reshape((-1,1))"
   ]
  },
  {
   "cell_type": "code",
   "execution_count": 3,
   "metadata": {},
   "outputs": [],
   "source": [
    "def top_k_compress(vector, k=0.3):\n",
    "    n = len(vector)\n",
    "    num_to_keep = int(n * k)\n",
    "    \n",
    "    abs_vector = np.abs(vector)  \n",
    "    \n",
    "    threshold = np.sort(abs_vector)[n - num_to_keep]  \n",
    "\n",
    "    mask = abs_vector >= threshold\n",
    "\n",
    "    compressed_vector = vector * mask\n",
    "\n",
    "    return compressed_vector\n",
    "\n",
    "def randk_compress(vector, k = 0.3):\n",
    "\n",
    "    k = float(k)\n",
    "    if not 0 <= k <= 1:\n",
    "        raise ValueError(\"k must be between 0 and 1\")\n",
    "\n",
    "    n = len(vector)\n",
    "    num_to_keep = int(n * k)\n",
    "\n",
    "    # 1. Generate a random mask\n",
    "    indices = np.random.choice(n, num_to_keep, replace=False) # Randomly choose 'num_to_keep' indices\n",
    "    mask = np.zeros(n, dtype=bool) # Create a boolean mask, initially all False\n",
    "    mask[indices] = True # Set the randomly chosen indices to True\n",
    "\n",
    "    # 2. Apply the mask\n",
    "    compressed_vector = vector * mask\n",
    "\n",
    "    return compressed_vector\n",
    "\n",
    "def sigmoid(z):\n",
    "    return 1 / (1 + np.exp(-z))\n",
    "    \n",
    "\n",
    "def Fm(z, X, y, lmbda = 0.0001):\n",
    "    #log_dif =  sigmoid(np.dot(y_train_batch.T X_train_batch)\n",
    "    #return z - C * np.dot(X_train_batch.transpose(), y_hat)\n",
    "    h = sigmoid(X @ z)\n",
    "    gradient = (1 / X_train.shape[0]) * (X.T @ (h - y)) + lmbda * z\n",
    "\n",
    "    return gradient\n",
    "\n",
    "\n"
   ]
  },
  {
   "cell_type": "markdown",
   "metadata": {},
   "source": [
    "# MASHA"
   ]
  },
  {
   "cell_type": "code",
   "execution_count": 4,
   "metadata": {},
   "outputs": [
    {
     "data": {
      "text/plain": [
       "(32561, 124, 6513)"
      ]
     },
     "execution_count": 4,
     "metadata": {},
     "output_type": "execute_result"
    }
   ],
   "source": [
    "max_epoch = 2 #最大迭代次数\n",
    "learning_rate = 0.01  #学习速率\n",
    "C = 0.3\n",
    "m,n = np.shape(X_train)\n",
    "tau = 0.5\n",
    "z_init = np.random.random((n_features + 1, 1)) \n",
    "z = z_init\n",
    "w = z\n",
    "number_of_machines = 5\n",
    "lmbd = 0.00001\n",
    "batch_size = int(np.ceil(m/number_of_machines))\n",
    "\n",
    "losses_train_MASHA = []#[lmbd * np.sum(z * z) + C * np.sum(np.log(np.abs(1 - Y_train * np.dot(X_train, z))))]\n",
    "losses_val_MASHA = []\n",
    "data_sent_MASHA = []#[0]\n",
    "\n",
    "m, n, batch_size"
   ]
  },
  {
   "cell_type": "code",
   "execution_count": null,
   "metadata": {},
   "outputs": [],
   "source": []
  },
  {
   "cell_type": "code",
   "execution_count": 5,
   "metadata": {},
   "outputs": [
    {
     "name": "stderr",
     "output_type": "stream",
     "text": [
      "100%|██████████| 2/2 [00:00<00:00,  5.90it/s]\n"
     ]
    }
   ],
   "source": [
    "#h = 1 - Y_train * np.dot(X_train, z)\n",
    "#y_hat_full = np.where(h > 0, Y_train, 0)\n",
    "data_sent = 0\n",
    "#MASHA\n",
    "for epoch in tqdm(range(max_epoch)):\n",
    "    \n",
    "    z_ = tau* z + (1-tau) * w - learning_rate * Fm(w, X_train, Y_train, learning_rate)\n",
    "    g = {}\n",
    "    for machine_num in range(number_of_machines):\n",
    "        #randArr=np.random.randint(0,m,size=batch_size)\n",
    "        index_arr = list(range(machine_num* batch_size, min((machine_num+1)*batch_size,X_train.shape[0])))\n",
    "        X_train_batch=np.array([X_train[i] for i in index_arr])\n",
    "        Y_train_batch=[Y_train[i] for i in index_arr]\n",
    "        #h = 1 - Y_train_batch * np.dot(X_train_batch, z)\n",
    "        #y_hat = np.where(h > 0, Y_train_batch, 0)\n",
    "        g[machine_num] = top_k_compress(Fm(z_, X_train_batch, Y_train_batch, learning_rate) - Fm(w, X_train_batch, Y_train_batch, learning_rate))\n",
    "        data_sent+= g[machine_num].shape[0]*g[machine_num].shape[1]+len(z_)\n",
    "\n",
    "    #g_united = top_k_compress(1/number_of_machines * sum(g.values()))\n",
    "    g_united = (1/number_of_machines * sum(g.values()))\n",
    "\n",
    "    b = np.random.binomial(1, 1-tau)\n",
    "    w = b* w + z *(1-b)\n",
    "    data_sent+= len(z) *(1-b)\n",
    "    \n",
    "\n",
    "    z = z_ - learning_rate * g_united\n",
    "    \n",
    "    #y_predict_train = np.where(np.dot(X_train, z) > 0, 1, -1)\n",
    "    loss_train = np.mean(Y_train * np.dot(X_train, z)>0)\n",
    "    #loss_train = (lmbd * np.sum(z * z) + C * np.sum(np.log(np.abs(1 - Y_train * np.dot(X_train, z)))))\n",
    "    losses_train_MASHA.append(loss_train)# / Y_train.size)\n",
    "\n",
    "    #y_predict_val = np.where(np.dot(X_test, z) > 0, 1, -1)\n",
    "    #loss_val = np.sum(z * z) + C * np.sum(np.maximum(1 - Y_test * np.dot(X_test, z), 0))\n",
    "    #losses_val_MASHA.append(loss_val/Y_test.size)\n",
    "    \n",
    "    data_sent_MASHA.append(data_sent)\n",
    "\n"
   ]
  },
  {
   "cell_type": "code",
   "execution_count": 6,
   "metadata": {},
   "outputs": [
    {
     "data": {
      "image/png": "[encoded data removed]",
      "text/plain": [
       "<Figure size 1800x600 with 1 Axes>"
      ]
     },
     "metadata": {},
     "output_type": "display_data"
    }
   ],
   "source": [
    "import matplotlib.pyplot as plt\n",
    "plt.figure(figsize=(18, 6))\n",
    "plt.plot(losses_train_MASHA, color=\"r\", label=\"train\")\n",
    "plt.legend()\n",
    "plt.xlabel(\"epoch\")\n",
    "plt.ylabel(\"loss\")\n",
    "plt.title(\"The graph of loss value varing with the number of iterations\")\n",
    "plt.savefig('./figures/SVM.png')\n",
    "plt.show()"
   ]
  },
  {
   "cell_type": "markdown",
   "metadata": {},
   "source": [
    "# DIANA"
   ]
  },
  {
   "cell_type": "code",
   "execution_count": 7,
   "metadata": {},
   "outputs": [],
   "source": [
    "#max_epoch = 10000  #最大迭代次数\n",
    "\n",
    "alpha = learning_rate\n",
    "\n",
    "C = 0.5\n",
    "m,n = np.shape(X_train)\n",
    "#tau = 0.3\n",
    "z = z_init \n",
    "w = z\n",
    "\n",
    "number_of_machines = 5\n",
    "batch_size = int(np.ceil(m/number_of_machines))\n",
    "m, n, batch_size\n",
    "\n",
    "losses_train_DIANA = []#[lmbd * np.sum(z * z) + C * np.sum(np.log(np.abs(1 - Y_train * np.dot(X_train, z))))]\n",
    "losses_val_DIANA = []\n",
    "data_sent_DIANA = []#[0]\n",
    "\n",
    "h = {}\n",
    "for i in range(number_of_machines):\n",
    "    h[i] = np.random.random((n_features + 1, 1)) "
   ]
  },
  {
   "cell_type": "code",
   "execution_count": 8,
   "metadata": {},
   "outputs": [
    {
     "name": "stderr",
     "output_type": "stream",
     "text": [
      "100%|██████████| 2/2 [00:00<00:00,  6.42it/s]\n"
     ]
    }
   ],
   "source": [
    "#DIANA\n",
    "Delta = {}\n",
    "gcap = {}\n",
    "g = {}\n",
    "data_sent = 0\n",
    "for epoch in tqdm(range(max_epoch)):\n",
    "    \n",
    "    \n",
    "    for machine_num in range(number_of_machines):\n",
    "        index_arr = list(range(machine_num* batch_size, min((machine_num+1)*batch_size,X_train.shape[0])))\n",
    "        X_train_batch=np.array([X_train[i] for i in index_arr])\n",
    "        Y_train_batch=[Y_train[i] for i in index_arr]\n",
    "\n",
    "        g[machine_num] = Fm(w, X_train, Y_train)\n",
    "\n",
    "        Delta[machine_num] = randk_compress(g[machine_num]- h[machine_num])\n",
    "\n",
    "        gcap[machine_num] = h[machine_num] + Delta[machine_num]\n",
    "        h[machine_num] = h[machine_num] + alpha * Delta[machine_num]\n",
    "        \n",
    "        data_sent+=Delta[machine_num].shape[0]\n",
    "        data_sent += h[machine_num].shape[0]\n",
    "\n",
    "    q = 1/number_of_machines * sum(Delta.values())\n",
    "    gcap_united = 1/number_of_machines * sum(gcap.values())\n",
    "\n",
    "    z = (z-learning_rate * gcap_united)/(1+learning_rate)\n",
    "\n",
    "    loss_train = np.sum(Y_train * np.dot(X_train, z)>0)\n",
    "    #loss_train = (lmbd * np.sum(z * z) + C * np.sum(np.log(np.abs(1 - Y_train * np.dot(X_train, z)))))\n",
    "    loss_train = np.mean(Y_train * np.dot(X_train, z)>0)\n",
    "    #loss_train = (lmbd * np.sum(z * z) + C * np.sum(np.log(np.abs(1 - Y_train * np.dot(X_train, z)))))\n",
    "    losses_train_DIANA.append(loss_train)# / Y_train.size)\n",
    "\n",
    "    \n",
    "    data_sent_DIANA.append(data_sent)"
   ]
  },
  {
   "cell_type": "code",
   "execution_count": 9,
   "metadata": {},
   "outputs": [
    {
     "data": {
      "image/png": "[encoded data removed]",
      "text/plain": [
       "<Figure size 800x600 with 1 Axes>"
      ]
     },
     "metadata": {},
     "output_type": "display_data"
    }
   ],
   "source": [
    "import matplotlib.pyplot as plt\n",
    "plt.figure(figsize=(8, 6))\n",
    "plt.plot(losses_train_DIANA, color=\"r\", label=\"DIANA\")\n",
    "plt.plot(losses_train_MASHA, color=\"b\", label=\"MASHA\")\n",
    "plt.legend()\n",
    "plt.xlabel(\"epoch\")\n",
    "plt.ylabel(\"accuracy\")\n",
    "plt.title(\"The graph of loss value varing with the number of iterations\")\n",
    "plt.semilogx()\n",
    "plt.savefig('./figures/a9a_by_iteration.pdf')\n",
    "plt.xscale(\"log\")\n",
    "plt.show()"
   ]
  },
  {
   "cell_type": "code",
   "execution_count": 10,
   "metadata": {},
   "outputs": [
    {
     "data": {
      "image/png": "[encoded data removed]",
      "text/plain": [
       "<Figure size 800x600 with 1 Axes>"
      ]
     },
     "metadata": {},
     "output_type": "display_data"
    }
   ],
   "source": [
    "import matplotlib.pyplot as plt\n",
    "plt.figure(figsize=(8, 6))\n",
    "plt.plot(data_sent_DIANA, losses_train_DIANA, color=\"r\", label=\"DIANA\", linestyle='-')\n",
    "plt.plot(data_sent_MASHA, losses_train_MASHA, color=\"b\", label=\"MASHA\", linestyle='-')\n",
    "\n",
    "plt.legend()\n",
    "plt.xlabel(\"data_sent\")\n",
    "plt.ylabel(\"accuracy\")\n",
    "plt.title(\"The graph of loss value varing with the number of iterations\")\n",
    "plt.semilogx()\n",
    "plt.savefig('./figures/a9a_by_data.pdf')\n",
    "plt.xscale(\"log\")\n",
    "plt.show()"
   ]
  },
  {
   "cell_type": "markdown",
   "metadata": {},
   "source": [
    "# EG DIANA (work in progress)"
   ]
  },
  {
   "cell_type": "markdown",
   "metadata": {},
   "source": []
  },
  {
   "cell_type": "code",
   "execution_count": 13,
   "metadata": {},
   "outputs": [],
   "source": [
    "learning_rate = 0.00001  #学习速率\n",
    "alpha = learning_rate\n",
    "\n",
    "C = 0.5\n",
    "m,n = np.shape(X_train)\n",
    "tau = 0.3\n",
    "z = z_init\n",
    "w = 1/24\n",
    "betta = 0.5\n",
    "\n",
    "number_of_machines = 5\n",
    "batch_size = int(np.ceil(m/number_of_machines))\n",
    "m, n, batch_size\n",
    "\n",
    "losses_train_EGDIANA = []#[lmbd * np.sum(z * z) + C * np.sum(np.log(np.abs(1 - Y_train * np.dot(X_train, z))))]\n",
    "losses_val_EGDIANA = []\n",
    "data_sent_EGDIANA = []#[0]\n",
    "\n",
    "h_united = np.zeros(n_features + 1) \n",
    "h = {}\n",
    "for i in range(number_of_machines):\n",
    "    h[i] = h_united"
   ]
  },
  {
   "cell_type": "code",
   "execution_count": 21,
   "metadata": {},
   "outputs": [
    {
     "name": "stderr",
     "output_type": "stream",
     "text": [
      "  0%|          | 0/2 [00:00<?, ?it/s]"
     ]
    },
    {
     "name": "stdout",
     "output_type": "stream",
     "text": [
      "(124, 124)\n"
     ]
    },
    {
     "name": "stderr",
     "output_type": "stream",
     "text": [
      "\n"
     ]
    },
    {
     "ename": "TypeError",
     "evalue": "unsupported operand type(s) for +: 'dict' and 'float'",
     "output_type": "error",
     "traceback": [
      "\u001b[0;31m---------------------------------------------------------------------------\u001b[0m",
      "\u001b[0;31mTypeError\u001b[0m                                 Traceback (most recent call last)",
      "Cell \u001b[0;32mIn[21], line 19\u001b[0m\n\u001b[1;32m     15\u001b[0m     h[machine_num] \u001b[38;5;241m=\u001b[39m h[machine_num] \u001b[38;5;241m+\u001b[39m betta \u001b[38;5;241m*\u001b[39m Deltacap[machine_num]\n\u001b[1;32m     18\u001b[0m \u001b[38;5;28mprint\u001b[39m(\u001b[38;5;28mlist\u001b[39m(Deltacap\u001b[38;5;241m.\u001b[39mvalues())[\u001b[38;5;241m0\u001b[39m]\u001b[38;5;241m.\u001b[39mshape)\n\u001b[0;32m---> 19\u001b[0m g_united \u001b[38;5;241m=\u001b[39m h \u001b[38;5;241m+\u001b[39m \u001b[38;5;241m1\u001b[39m\u001b[38;5;241m/\u001b[39mnumber_of_machines \u001b[38;5;241m*\u001b[39m \u001b[38;5;28msum\u001b[39m(Deltacap\u001b[38;5;241m.\u001b[39mvalues())\n\u001b[1;32m     21\u001b[0m z \u001b[38;5;241m=\u001b[39m z_ \u001b[38;5;241m-\u001b[39m learning_rate \u001b[38;5;241m*\u001b[39m g_united\n\u001b[1;32m     22\u001b[0m h \u001b[38;5;241m=\u001b[39m h \u001b[38;5;241m+\u001b[39m \u001b[38;5;241m1\u001b[39m\u001b[38;5;241m/\u001b[39m(\u001b[38;5;241m1\u001b[39m\u001b[38;5;241m+\u001b[39mw) \u001b[38;5;241m*\u001b[39m \u001b[38;5;241m1\u001b[39m\u001b[38;5;241m/\u001b[39mnumber_of_machines \u001b[38;5;241m*\u001b[39m \u001b[38;5;28msum\u001b[39m(Deltacap\u001b[38;5;241m.\u001b[39mvalues)\n",
      "\u001b[0;31mTypeError\u001b[0m: unsupported operand type(s) for +: 'dict' and 'float'"
     ]
    }
   ],
   "source": [
    "Deltacap = {}\n",
    "g = {}\n",
    "data_sent = 0\n",
    "for epoch in tqdm(range(max_epoch)):\n",
    "    z_ = z- learning_rate * h_united \n",
    "    data_sent += len(z_)*number_of_machines\n",
    "    for machine_num in range(number_of_machines):\n",
    "        index_arr = list(range(machine_num* batch_size, min((machine_num+1)*batch_size,X_train.shape[0])))\n",
    "        X_train_batch=np.array([X_train[i] for i in index_arr])\n",
    "        Y_train_batch=[Y_train[i] for i in index_arr]\n",
    "\n",
    "        Delta = Fm(z_, X_train_batch, Y_train_batch) - h[machine_num]\n",
    "        Deltacap[machine_num] = randk_compress(Delta)\n",
    "        g[machine_num] = h[machine_num] + Deltacap[machine_num]\n",
    "        h[machine_num] = h[machine_num] + betta * Deltacap[machine_num]\n",
    "\n",
    "    \n",
    "    print(list(Deltacap.values())[0].shape)\n",
    "    g_united = h + 1/number_of_machines * sum(Deltacap.values())\n",
    "\n",
    "    z = z_ - learning_rate * g_united\n",
    "    h = h + 1/(1+w) * 1/number_of_machines * sum(Deltacap.values)\n",
    "    #y_predict_train = np.where(np.dot(X_train, z) > 0, 1, -1)\n",
    "    loss_train = (lmbd * np.sum(z * z) + C * np.sum(np.log(np.abs(1 - Y_train * np.dot(X_train, z)))))\n",
    "    losses_train_EGDIANA.append(loss_train / Y_train.size)\n",
    "\n",
    "    #y_predict_val = np.where(np.dot(X_test, z) > 0, 1, -1)\n",
    "    loss_train = np.mean(Y_train * np.dot(X_train, z)>0)\n",
    "    #loss_train = (lmbd * np.sum(z * z) + C * np.sum(np.log(np.abs(1 - Y_train * np.dot(X_train, z)))))\n",
    "    losses_train_EGDIANA.append(loss_train)# / Y_train.size)\n",
    "    \n",
    "    data_sent_EGDIANA.append(data_sent)\n",
    "\n"
   ]
  },
  {
   "cell_type": "code",
   "execution_count": null,
   "metadata": {},
   "outputs": [],
   "source": [
    "import matplotlib.pyplot as plt\n",
    "plt.figure(figsize=(18, 6))\n",
    "plt.plot(losses_train_EGDIANA, color=\"r\", label=\"EG_DIANA\")\n",
    "plt.legend()\n",
    "plt.xlabel(\"epoch\")\n",
    "plt.ylabel(\"loss\")\n",
    "plt.title(\"The graph of loss value varing with the number of iterations\")\n",
    "plt.savefig('./figures/SVM.png')\n",
    "plt.show()"
   ]
  },
  {
   "cell_type": "code",
   "execution_count": null,
   "metadata": {},
   "outputs": [],
   "source": [
    "learning_rate = 0.00001  #学习速率\n",
    "alpha = learning_rate\n",
    "\n",
    "C = 0.5\n",
    "m,n = np.shape(X_train)\n",
    "z = z_init\n",
    "w = 1/24\n",
    "betta = 0.5\n",
    "\n",
    "number_of_machines = 5\n",
    "batch_size = int(np.ceil(m/number_of_machines))\n",
    "m, n, batch_size\n",
    "\n",
    "losses_train_EGDIANA = []#[lmbd * np.sum(z * z) + C * np.sum(np.log(np.abs(1 - Y_train * np.dot(X_train, z))))]\n",
    "losses_val_EGDIANA = []\n",
    "data_sent_EGDIANA = []#[0]\n",
    "\n",
    "h_united = z = np.zeros(n_features + 1) \n",
    "h = {}\n",
    "for i in range(number_of_machines):\n",
    "    h[i] = h_united"
   ]
  },
  {
   "cell_type": "code",
   "execution_count": null,
   "metadata": {},
   "outputs": [],
   "source": [
    "Deltacap = {}\n",
    "g = {}\n",
    "data_sent = 0\n",
    "for epoch in tqdm(range(max_epoch)):\n",
    "    z_ = z- learning_rate * h_united \n",
    "    data_sent += len(z_)*number_of_machines\n",
    "    for machine_num in range(number_of_machines):\n",
    "        index_arr = list(range(machine_num* batch_size, min((machine_num+1)*batch_size,X_train.shape[0])))\n",
    "        X_train_batch=np.array([X_train[i] for i in index_arr])\n",
    "        Y_train_batch=[Y_train[i] for i in index_arr]\n",
    "\n",
    "        Delta = Fm(z_, X_train_batch, Y_train_batch) - h[machine_num]\n",
    "        Deltacap[machine_num] = randk_compress(Delta)\n",
    "        g[machine_num] = h[machine_num] + Deltacap[machine_num]\n",
    "        h[machine_num] += betta + Deltacap[machine_num]\n",
    "\n",
    "    \n",
    "\n",
    "    g_united = h + 1/number_of_machines * sum(Deltacap.values)\n",
    "\n",
    "    z = z_ - learning_rate * g_united\n",
    "    h = h + 1/(1+w) * 1/number_of_machines * sum(Deltacap.values)\n",
    "    #y_predict_train = np.where(np.dot(X_train, z) > 0, 1, -1)\n",
    "    loss_train = (lmbd * np.sum(z * z) + C * np.sum(np.log(np.abs(1 - Y_train * np.dot(X_train, z)))))\n",
    "    losses_train_EGDIANA.append(loss_train / Y_train.size)\n",
    "\n",
    "    #y_predict_val = np.where(np.dot(X_test, z) > 0, 1, -1)\n",
    "    loss_train = np.mean(Y_train * np.dot(X_train, z)>0)\n",
    "    #loss_train = (lmbd * np.sum(z * z) + C * np.sum(np.log(np.abs(1 - Y_train * np.dot(X_train, z)))))\n",
    "    losses_train_EGDIANA.append(loss_train)# / Y_train.size)\n",
    "    \n",
    "    data_sent_EGDIANA.append(data_sent)\n",
    "\n",
    "\n",
    "\n"
   ]
  }
 ],
 "metadata": {
  "kernelspec": {
   "display_name": "base",
   "language": "python",
   "name": "python3"
  },
  "language_info": {
   "codemirror_mode": {
    "name": "ipython",
    "version": 3
   },
   "file_extension": ".py",
   "mimetype": "text/x-python",
   "name": "python",
   "nbconvert_exporter": "python",
   "pygments_lexer": "ipython3",
   "version": "3.12.7"
  }
 },
 "nbformat": 4,
 "nbformat_minor": 0
}
